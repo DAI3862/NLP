{
 "cells": [
  {
   "cell_type": "code",
   "execution_count": 1,
   "metadata": {},
   "outputs": [
    {
     "name": "stdout",
     "output_type": "stream",
     "text": [
      "WARNING:tensorflow:From c:\\Users\\Administrator.DAI-PC2\\.conda\\envs\\New\\lib\\site-packages\\keras\\src\\losses.py:2976: The name tf.losses.sparse_softmax_cross_entropy is deprecated. Please use tf.compat.v1.losses.sparse_softmax_cross_entropy instead.\n",
      "\n"
     ]
    }
   ],
   "source": [
    "# Import Libraries\n",
    "import pandas as pd\n",
    "import numpy as np\n",
    "import tensorflow as tf\n",
    "from keras.models import *\n",
    "from keras.layers import *\n",
    "from keras.datasets import imdb\n",
    "from keras.utils import pad_sequences"
   ]
  },
  {
   "cell_type": "markdown",
   "metadata": {},
   "source": [
    "Define the Transformer Block"
   ]
  },
  {
   "cell_type": "code",
   "execution_count": 2,
   "metadata": {},
   "outputs": [],
   "source": [
    "class TransformerBlock(Layer):\n",
    "    def __init__(self, embed_dim, num_heads, ff_dim, rate = 0.1):\n",
    "        # embed_dim: this parameter specifies the dimensions of the the input and output\n",
    "        # num_heads: controls the numbers of attentions heads n the multi\n",
    "        # ff_dim: specifies the dimensionality of the feedforward network\n",
    "        # rate: controls the dropout rate, which to used for regularization\n",
    "\n",
    "        super().__init__() \n",
    "        self.att = MultiHeadAttention(num_heads=num_heads, key_dim=embed_dim)\n",
    "        # This creates the a MultiHeadAttention layer, responsible for learning long range\n",
    "        self.ffn = Sequential([\n",
    "            Dense(ff_dim, activation='relu'),\n",
    "            Dense(embed_dim), \n",
    "        ])\n",
    "        # This for additional normalization\n",
    "        \n",
    "        self.layernorm1 = LayerNormalization(epsilon=1e-6)\n",
    "        self.layernorm2 = LayerNormalization(epsilon=1e-6)\n",
    "        # self.layernorm1 and layernorm2 create LayerNormalization layers\n",
    "        \n",
    "        self.dropout1 = Dropout(rate)\n",
    "        self.dropout2 = Dropout(rate)\n",
    "\n",
    "    def call(self, inputs, training):\n",
    "        attn_output= self.att(inputs, inputs)\n",
    "        # applies mulit-head atttention to input sequence allowing different part\n",
    "        \n",
    "        attn_output = self.dropout1(attn_output, training=training)\n",
    "        # Applies dropout layer to attention output\n",
    "        \n",
    "        out1 = self.layernorm1(inputs+attn_output)\n",
    "        # Adds the attentions output to the original input and applies layer normalization\n",
    "\n",
    "        # Passes the normalized output through Feed-Forward Network\n",
    "        ffn_output = self.ffn(out1)\n",
    "\n",
    "        # Applies dropout to Feed-Forward output\n",
    "        ffn_output = self.dropout2(ffn_output, training = training)\n",
    "\n",
    "        return self.layernorm2(out1 + ffn_output)"
   ]
  },
  {
   "cell_type": "code",
   "execution_count": 12,
   "metadata": {},
   "outputs": [],
   "source": [
    "class TokenAndPositionEmbedding(Layer):\n",
    "    def __init__(self, maxlen, vocab_size, embed_dim):\n",
    "        # maxlem: max len of the input sequence\n",
    "        # vocab_size: total no. of unique token in vocab\n",
    "        # embed_size: dimension of embedding\n",
    "\n",
    "        super().__init__()\n",
    "        # embedding layer that maps each token in the input sequence to a dense vector of size embed_dim\n",
    "        self.token_emb = Embedding(input_dim=vocab_size, output_dim=embed_dim)\n",
    "        # embedding layer that maps each token in the input sequence (from 0 to maxlen - 1) to a dense vector of size embed_dim \n",
    "        self.pos_emb = Embedding(input_dim=maxlen, output_dim= embed_dim)\n",
    "\n",
    "\n",
    "    def call(self, x):\n",
    "        # Extract the actual length of the current input sequence\n",
    "        maxlen = tf.shape(x)[-1]\n",
    "        # creates a tensor of positions from 0 to maxlen - 1\n",
    "        positions = tf.range(start=0, limit=maxlen, delta=1)\n",
    "        # Looks up the positions embeddings for each positions in the sequence\n",
    "        positions = self.pos_emb(positions)\n",
    "        # Looks up the positions embeddings for each positions in the sequence\n",
    "        x = self.token_emb(x)\n",
    "\n",
    "        # Adds the token embeddings and position embeddings element wise resulting in  a combined representation that captures both word meaning and positional information\n",
    "        return x + positions"
   ]
  },
  {
   "cell_type": "code",
   "execution_count": 4,
   "metadata": {},
   "outputs": [],
   "source": [
    "vocab_size = 2000 # Only consider the top 20k words\n",
    "maxlen = 200 # only consider the first 200 words of each movie review"
   ]
  },
  {
   "cell_type": "code",
   "execution_count": 5,
   "metadata": {},
   "outputs": [],
   "source": [
    "(x_train, y_train), (x_val, y_val) = imdb.load_data(num_words=vocab_size)"
   ]
  },
  {
   "cell_type": "code",
   "execution_count": 6,
   "metadata": {},
   "outputs": [
    {
     "name": "stdout",
     "output_type": "stream",
     "text": [
      "25000 Training sequences\n",
      "25000 Validation sequences\n"
     ]
    }
   ],
   "source": [
    "print(len(x_train), \"Training sequences\")\n",
    "print(len(x_val), \"Validation sequences\")\n"
   ]
  },
  {
   "cell_type": "code",
   "execution_count": 7,
   "metadata": {},
   "outputs": [],
   "source": [
    "x_train = pad_sequences(x_train, maxlen= maxlen)\n",
    "x_val = pad_sequences(x_val, maxlen= maxlen)"
   ]
  },
  {
   "cell_type": "code",
   "execution_count": 8,
   "metadata": {},
   "outputs": [
    {
     "data": {
      "text/plain": [
       "(25000, 200)"
      ]
     },
     "execution_count": 8,
     "metadata": {},
     "output_type": "execute_result"
    }
   ],
   "source": [
    "x_train.shape"
   ]
  },
  {
   "cell_type": "code",
   "execution_count": 9,
   "metadata": {},
   "outputs": [
    {
     "data": {
      "text/plain": [
       "(25000, 200)"
      ]
     },
     "execution_count": 9,
     "metadata": {},
     "output_type": "execute_result"
    }
   ],
   "source": [
    "x_val.shape"
   ]
  },
  {
   "cell_type": "code",
   "execution_count": 10,
   "metadata": {},
   "outputs": [
    {
     "data": {
      "text/plain": [
       "array([  89,    8,  511,    2,   59,    2,   41,  523,  147, 1876,    5,\n",
       "          2,  175,  347,   11,  618,    4,  172,   96,    2,    2,    9,\n",
       "        862,    2,    8,   41,    5,   27,  532,    2,    9,    2,    4,\n",
       "          2,  136,    2,    2,    5,    2,   19, 1456,  921,   42,    2,\n",
       "       1488,   68,    2,  216,   17,    6,    2,   48,   13,   69,    6,\n",
       "          2,   13,   62,   28,    2,   12,    8,   98,  634,  908,   10,\n",
       "         10,    2,    2,    9,    2,   17,    2,    6,   87, 1465,   48,\n",
       "         25,  377,   27,  478,  157,   11,    2,    2,   29,    2,    4,\n",
       "          2,    7,    2,    2,   83,    6,    2,    2,    7,  107,   42,\n",
       "        289,  715,  257,    5,   95,    2,    4,    2,   11,   17,    2,\n",
       "          5,    2, 1377,   17,  614,   11,   14,  365, 1652,    2,    2,\n",
       "        373,   10,   10,    4,  167,    2,    2,  287,   64,   35,    2,\n",
       "          2,    7, 1489,    4,  370,  121,   12,   80,  123,  178,   51,\n",
       "         75,  181,    8,   67,    4,  636,    2,    9,    2,    2,  190,\n",
       "         50,    9,  486,   54,   11,    6,  303,  548,    2,  684,    2,\n",
       "          2,  208,   11,    4,    2,    2,   95,    2,    4,    2,    2,\n",
       "        190,  122,   15,   79,  143,   10,   10, 1479, 1468,    9,    6,\n",
       "        196,  297,   14,  310,    9,   24, 1178,   18,    2,  361,   42,\n",
       "         76,  334])"
      ]
     },
     "execution_count": 10,
     "metadata": {},
     "output_type": "execute_result"
    }
   ],
   "source": [
    "x_train[4000]"
   ]
  },
  {
   "cell_type": "code",
   "execution_count": 13,
   "metadata": {},
   "outputs": [],
   "source": [
    "embed_dim = 32\n",
    "num_heads = 2\n",
    "ff_dim = 32\n",
    "\n",
    "inputs = Input(shape=(maxlen, ))\n",
    "\n",
    "embedding_layer = TokenAndPositionEmbedding(maxlen, vocab_size, embed_dim)\n",
    "\n",
    "x = embedding_layer(inputs)\n",
    "\n",
    "transformer_block = TransformerBlock(embed_dim, num_heads, ff_dim)\n",
    "\n",
    "x = transformer_block(x)\n",
    "x = GlobalAveragePooling1D()(x)\n",
    "x = Dropout(0.1)(x)\n",
    "x = Dense(20, activation= 'relu')(x)\n",
    "x = Dropout(0.1)(x)\n",
    "outputs = Dense(2, activation= 'softmax')(x)\n",
    "\n",
    "model = Model(inputs= inputs, outputs= outputs)"
   ]
  },
  {
   "cell_type": "code",
   "execution_count": 14,
   "metadata": {},
   "outputs": [
    {
     "name": "stdout",
     "output_type": "stream",
     "text": [
      "Model: \"model\"\n",
      "_________________________________________________________________\n",
      " Layer (type)                Output Shape              Param #   \n",
      "=================================================================\n",
      " input_2 (InputLayer)        [(None, 200)]             0         \n",
      "                                                                 \n",
      " token_and_position_embeddi  (None, 200, 32)           70400     \n",
      " ng_1 (TokenAndPositionEmbe                                      \n",
      " dding)                                                          \n",
      "                                                                 \n",
      " transformer_block (Transfo  (None, 200, 32)           10656     \n",
      " rmerBlock)                                                      \n",
      "                                                                 \n",
      " global_average_pooling1d (  (None, 32)                0         \n",
      " GlobalAveragePooling1D)                                         \n",
      "                                                                 \n",
      " dropout_2 (Dropout)         (None, 32)                0         \n",
      "                                                                 \n",
      " dense_2 (Dense)             (None, 20)                660       \n",
      "                                                                 \n",
      " dropout_3 (Dropout)         (None, 20)                0         \n",
      "                                                                 \n",
      " dense_3 (Dense)             (None, 2)                 42        \n",
      "                                                                 \n",
      "=================================================================\n",
      "Total params: 81758 (319.37 KB)\n",
      "Trainable params: 81758 (319.37 KB)\n",
      "Non-trainable params: 0 (0.00 Byte)\n",
      "_________________________________________________________________\n"
     ]
    }
   ],
   "source": [
    "model.summary()"
   ]
  },
  {
   "cell_type": "code",
   "execution_count": 23,
   "metadata": {},
   "outputs": [
    {
     "data": {
      "image/png": "[encoded data removed]",
      "text/plain": [
       "<IPython.core.display.Image object>"
      ]
     },
     "execution_count": 23,
     "metadata": {},
     "output_type": "execute_result"
    }
   ],
   "source": [
    "from keras.utils import plot_model\n",
    "plot_model(model, show_shapes=True, show_layer_names=True, show_layer_activations=True, show_dtype=True, show_trainable=True, expand_nested=True, )"
   ]
  },
  {
   "cell_type": "markdown",
   "metadata": {},
   "source": [
    "Compile the Model"
   ]
  },
  {
   "cell_type": "code",
   "execution_count": 18,
   "metadata": {},
   "outputs": [],
   "source": [
    "model.compile(optimizer='adam', loss= 'sparse_categorical_crossentropy', \n",
    "              metrics=['accuracy'])"
   ]
  },
  {
   "cell_type": "markdown",
   "metadata": {},
   "source": [
    "Train the Model"
   ]
  },
  {
   "cell_type": "code",
   "execution_count": 16,
   "metadata": {},
   "outputs": [
    {
     "name": "stdout",
     "output_type": "stream",
     "text": [
      "Epoch 1/10\n",
      "WARNING:tensorflow:From c:\\Users\\Administrator.DAI-PC2\\.conda\\envs\\New\\lib\\site-packages\\keras\\src\\utils\\tf_utils.py:492: The name tf.ragged.RaggedTensorValue is deprecated. Please use tf.compat.v1.ragged.RaggedTensorValue instead.\n",
      "\n",
      "WARNING:tensorflow:From c:\\Users\\Administrator.DAI-PC2\\.conda\\envs\\New\\lib\\site-packages\\keras\\src\\engine\\base_layer_utils.py:384: The name tf.executing_eagerly_outside_functions is deprecated. Please use tf.compat.v1.executing_eagerly_outside_functions instead.\n",
      "\n",
      "782/782 [==============================] - 40s 47ms/step - loss: 0.4181 - accuracy: 0.7957 - val_loss: 0.3035 - val_accuracy: 0.8680\n",
      "Epoch 2/10\n",
      "782/782 [==============================] - 36s 45ms/step - loss: 0.2983 - accuracy: 0.8765 - val_loss: 0.2986 - val_accuracy: 0.8729\n",
      "Epoch 3/10\n",
      "782/782 [==============================] - 35s 45ms/step - loss: 0.2806 - accuracy: 0.8860 - val_loss: 0.3111 - val_accuracy: 0.8674\n",
      "Epoch 4/10\n",
      "782/782 [==============================] - 35s 45ms/step - loss: 0.2689 - accuracy: 0.8894 - val_loss: 0.3146 - val_accuracy: 0.8608\n",
      "Epoch 5/10\n",
      "782/782 [==============================] - 35s 45ms/step - loss: 0.2614 - accuracy: 0.8913 - val_loss: 0.3116 - val_accuracy: 0.8656\n",
      "Epoch 6/10\n",
      "782/782 [==============================] - 36s 46ms/step - loss: 0.2491 - accuracy: 0.8952 - val_loss: 0.3210 - val_accuracy: 0.8639\n",
      "Epoch 7/10\n",
      "782/782 [==============================] - 36s 46ms/step - loss: 0.2384 - accuracy: 0.8941 - val_loss: 0.3710 - val_accuracy: 0.8622\n",
      "Epoch 8/10\n",
      "782/782 [==============================] - 35s 44ms/step - loss: 0.2276 - accuracy: 0.8973 - val_loss: 0.3678 - val_accuracy: 0.8619\n",
      "Epoch 9/10\n",
      "782/782 [==============================] - 35s 44ms/step - loss: 0.2184 - accuracy: 0.9010 - val_loss: 0.3760 - val_accuracy: 0.8500\n",
      "Epoch 10/10\n",
      "782/782 [==============================] - 35s 44ms/step - loss: 0.2089 - accuracy: 0.9029 - val_loss: 0.3846 - val_accuracy: 0.8567\n"
     ]
    }
   ],
   "source": [
    "history = model.fit(x_train, y_train, batch_size= 32, epochs= 10, \n",
    "                    validation_data=(x_val, y_val))"
   ]
  },
  {
   "cell_type": "code",
   "execution_count": null,
   "metadata": {},
   "outputs": [],
   "source": [
    "# mi p\n"
   ]
  },
  {
   "cell_type": "code",
   "execution_count": null,
   "metadata": {},
   "outputs": [],
   "source": []
  }
 ],
 "metadata": {
  "kernelspec": {
   "display_name": "New",
   "language": "python",
   "name": "python3"
  },
  "language_info": {
   "codemirror_mode": {
    "name": "ipython",
    "version": 3
   },
   "file_extension": ".py",
   "mimetype": "text/x-python",
   "name": "python",
   "nbconvert_exporter": "python",
   "pygments_lexer": "ipython3",
   "version": "3.10.13"
  }
 },
 "nbformat": 4,
 "nbformat_minor": 2
}
