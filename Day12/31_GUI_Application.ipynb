{
 "cells": [
  {
   "cell_type": "code",
   "execution_count": 2,
   "metadata": {},
   "outputs": [
    {
     "name": "stdout",
     "output_type": "stream",
     "text": [
      "Requirement already satisfied: flask in c:\\users\\administrator.dai-pc2\\.conda\\envs\\new\\lib\\site-packages (3.0.2)\n",
      "Requirement already satisfied: Werkzeug>=3.0.0 in c:\\users\\administrator.dai-pc2\\.conda\\envs\\new\\lib\\site-packages (from flask) (3.0.1)\n",
      "Requirement already satisfied: Jinja2>=3.1.2 in c:\\users\\administrator.dai-pc2\\.conda\\envs\\new\\lib\\site-packages (from flask) (3.1.3)\n",
      "Requirement already satisfied: itsdangerous>=2.1.2 in c:\\users\\administrator.dai-pc2\\.conda\\envs\\new\\lib\\site-packages (from flask) (2.1.2)\n",
      "Requirement already satisfied: click>=8.1.3 in c:\\users\\administrator.dai-pc2\\.conda\\envs\\new\\lib\\site-packages (from flask) (8.1.7)\n",
      "Requirement already satisfied: blinker>=1.6.2 in c:\\users\\administrator.dai-pc2\\.conda\\envs\\new\\lib\\site-packages (from flask) (1.7.0)\n",
      "Requirement already satisfied: colorama in c:\\users\\administrator.dai-pc2\\.conda\\envs\\new\\lib\\site-packages (from click>=8.1.3->flask) (0.4.6)\n",
      "Requirement already satisfied: MarkupSafe>=2.0 in c:\\users\\administrator.dai-pc2\\.conda\\envs\\new\\lib\\site-packages (from Jinja2>=3.1.2->flask) (2.1.3)\n",
      "Note: you may need to restart the kernel to use updated packages.\n"
     ]
    }
   ],
   "source": [
    "# pip install flask"
   ]
  },
  {
   "cell_type": "code",
   "execution_count": 3,
   "metadata": {},
   "outputs": [],
   "source": [
    "from tkinter import *"
   ]
  },
  {
   "cell_type": "markdown",
   "metadata": {},
   "source": [
    "Basic Application"
   ]
  },
  {
   "cell_type": "code",
   "execution_count": 11,
   "metadata": {},
   "outputs": [
    {
     "ename": "",
     "evalue": "",
     "output_type": "error",
     "traceback": [
      "\u001b[1;31mThe Kernel crashed while executing code in the current cell or a previous cell. \n",
      "\u001b[1;31mPlease review the code in the cell(s) to identify a possible cause of the failure. \n",
      "\u001b[1;31mClick <a href='https://aka.ms/vscodeJupyterKernelCrash'>here</a> for more info. \n",
      "\u001b[1;31mView Jupyter <a href='command:jupyter.viewOutput'>log</a> for further details."
     ]
    }
   ],
   "source": [
    "# top = Tk()\n",
    "# top.title('My first application')\n",
    "# top.geometry('500x300')\n",
    "# # top.tk_setPalette('blue')\n",
    "\n",
    "# l = Label(top, text='Hello World')\n",
    "# l.pack()\n",
    "\n",
    "\n",
    "# top.mainloop()"
   ]
  },
  {
   "cell_type": "code",
   "execution_count": 5,
   "metadata": {},
   "outputs": [],
   "source": [
    "top = Tk()\n",
    "top.title('My first application')\n",
    "top.geometry('500x300')\n",
    "# top.tk_setPalette('blue')\n",
    "\n",
    "Label(top, text='Hello World').pack()\n",
    "Entry(top).pack()\n",
    "Button(top, text='Submit').pack()\n",
    "\n",
    "\n",
    "top.mainloop()"
   ]
  },
  {
   "cell_type": "markdown",
   "metadata": {},
   "source": [
    "Event Handling"
   ]
  },
  {
   "cell_type": "code",
   "execution_count": 7,
   "metadata": {},
   "outputs": [
    {
     "name": "stdout",
     "output_type": "stream",
     "text": [
      "Your name is:  TEST\n",
      "Your name is:  TEST\n",
      "Your name is:  TEST11\n",
      "Your name is:  TEST11\n",
      "Your name is:  TEST11\n",
      "Your name is:  TEST11\n",
      "Your name is:  TEST11\n",
      "Your name is:  TEST11\n",
      "Your name is:  TEST11\n",
      "Your name is:  TEST11\n",
      "Your name is:  TEST11\n",
      "Your name is:  TEST11\n",
      "Your name is:  TEST11\n",
      "Your name is:  TEST11\n",
      "Your name is:  TEST11\n"
     ]
    }
   ],
   "source": [
    "top = Tk()\n",
    "top.title('My first application')\n",
    "top.geometry('500x300')\n",
    "# top.tk_setPalette('blue')\n",
    "\n",
    "def show():\n",
    "    name = str(e.get())\n",
    "    print('Your name is: ', name.upper())\n",
    "    \n",
    "\n",
    "Label(top, text='Enter your name').pack()\n",
    "e = Entry(top)\n",
    "e.pack()\n",
    "Button(top, text='Submit', command=show).pack()\n",
    "\n",
    "\n",
    "top.mainloop()"
   ]
  },
  {
   "cell_type": "code",
   "execution_count": 10,
   "metadata": {},
   "outputs": [],
   "source": [
    "top = Tk()\n",
    "top.title('My first application')\n",
    "top.geometry('500x300')\n",
    "# top.tk_setPalette('blue')\n",
    "\n",
    "def show():\n",
    "    # name = str(e.get())\n",
    "    # print('Your name is: ', name.upper())\n",
    "    Label(top, text='Your name is: '+ str(e.get()).upper()).pack()\n",
    "    \n",
    "\n",
    "Label(top, text='Enter your name').pack()\n",
    "e = Entry(top)\n",
    "e.pack()\n",
    "Button(top, text='Submit', command=show).pack()\n",
    "\n",
    "\n",
    "top.mainloop()"
   ]
  },
  {
   "cell_type": "markdown",
   "metadata": {},
   "source": [
    "Interactive Application"
   ]
  },
  {
   "cell_type": "code",
   "execution_count": 11,
   "metadata": {},
   "outputs": [],
   "source": [
    "top = Tk()\n",
    "top.title('My first application')\n",
    "top.geometry('500x300')\n",
    "# top.tk_setPalette('blue')\n",
    "\n",
    "def show():\n",
    "    # name = str(e.get())\n",
    "    # print('Your name is: ', name.upper())\n",
    "    Label(top, text='Your name is: '+ str(e.get()).upper()).pack()\n",
    "    if str(e.get()).upper() == 'ADI':\n",
    "        top.tk_setPalette('orange')\n",
    "    else:\n",
    "        top.tk_setPalette('yellow')\n",
    "    \n",
    "\n",
    "Label(top, text='Enter your name').pack()\n",
    "e = Entry(top)\n",
    "e.pack()\n",
    "Button(top, text='Submit', command=show).pack()\n",
    "\n",
    "\n",
    "top.mainloop()"
   ]
  },
  {
   "cell_type": "code",
   "execution_count": 17,
   "metadata": {},
   "outputs": [],
   "source": [
    "top = Tk()\n",
    "top.title('My first application')\n",
    "top.geometry('500x300')\n",
    "# top.tk_setPalette('blue')\n",
    "\n",
    "def show():\n",
    "    # name = str(e.get())\n",
    "    # print('Your name is: ', name.upper())\n",
    "    num = int(e.get())\n",
    " \n",
    "    # num **= 2\n",
    "    l.config(text='Sqr is: '+ str(num ** 2))\n",
    "    l.place(x=50, y=150)\n",
    "    \n",
    "\n",
    "Label(top, text='Enter the num').place(x=50, y=50)\n",
    "e = Entry(top)\n",
    "e.place(x=50, y=70)\n",
    "Button(top, text='Submit', command=show).place(x=50, y=110)\n",
    "l = Label(top, text='Sqr is: ')\n",
    "\n",
    "\n",
    "top.mainloop()"
   ]
  },
  {
   "cell_type": "markdown",
   "metadata": {},
   "source": [
    "Calculator Application"
   ]
  },
  {
   "cell_type": "code",
   "execution_count": 38,
   "metadata": {},
   "outputs": [],
   "source": [
    "top = Tk()\n",
    "top.title('My Calculator')\n",
    "top.geometry('500x300')\n",
    " \n",
    "def add():\n",
    "    num1 = int(e1.get())\n",
    "    num2 = int(e2.get())\n",
    "\n",
    "    l.config(text='Addition is: '+ str(num1 + num2))\n",
    "    l.place(x=50, y=150)\n",
    "\n",
    "def subt():\n",
    "    num1 = int(e1.get())\n",
    "    num2 = int(e2.get())\n",
    "\n",
    "    l.config(text='Subtraction is: '+ str(num1 - num2))\n",
    "    l.place(x=50, y=150)\n",
    "\n",
    "def mul():\n",
    "    num1 = int(e1.get())\n",
    "    num2 = int(e2.get())\n",
    "\n",
    "    l.config(text='Multiplication is: '+ str(num1 * num2))\n",
    "    l.place(x=50, y=150)\n",
    "\n",
    "def div():\n",
    "    num1 = int(e1.get())\n",
    "    num2 = int(e2.get())\n",
    "\n",
    "    if num2 == 0:\n",
    "        l.config(text='Cannot divide by 0')\n",
    "        l.place(x=50, y=150)\n",
    "\n",
    "    l.config(text='Division is: '+ str(num1 / num2))\n",
    "    l.place(x=50, y=150)\n",
    "\n",
    "Label(top, text='Enter the num1').place(x=50, y=50)\n",
    "e1 = Entry(top)\n",
    "e1.place(x=50, y=70)\n",
    "\n",
    "Label(top, text='Enter the num2').place(x=200, y=50)\n",
    "e2 = Entry(top)\n",
    "e2.place(x=200, y=70)\n",
    "\n",
    "\n",
    "Button(top, text='+', command=add).place(x=50, y=110)\n",
    "Button(top, text='-', command=subt).place(x=135, y=110)\n",
    "Button(top, text='*', command=mul).place(x=220, y=110)\n",
    "Button(top, text='/', command=div).place(x=305, y=110)\n",
    "\n",
    "l = Label(top)\n",
    "\n",
    "top.mainloop()"
   ]
  },
  {
   "cell_type": "code",
   "execution_count": 39,
   "metadata": {},
   "outputs": [],
   "source": [
    "from tkinter import Tk, Label, Entry, Button\n",
    "\n",
    "def calculate(operation):\n",
    "    num1 = int(e1.get())\n",
    "    num2 = int(e2.get())\n",
    "    result = \"\"\n",
    "    if operation == '+':\n",
    "        result = num1 + num2\n",
    "    elif operation == '-':\n",
    "        result = num1 - num2\n",
    "    elif operation == '*':\n",
    "        result = num1 * num2\n",
    "    elif operation == '/':\n",
    "        if num2 != 0:\n",
    "            result = num1 / num2\n",
    "        else:\n",
    "            result = 'Cannot divide by 0'\n",
    "    l.config(text=f'{operation} result is: {result}')\n",
    "    l.place(x=50, y=150)\n",
    "\n",
    "top = Tk()\n",
    "top.title('My Calculator')\n",
    "top.geometry('500x300')\n",
    "\n",
    "Label(top, text='Enter the num1').place(x=50, y=50)\n",
    "e1 = Entry(top)\n",
    "e1.place(x=150, y=50)\n",
    "\n",
    "Label(top, text='Enter the num2').place(x=50, y=80)\n",
    "e2 = Entry(top)\n",
    "e2.place(x=150, y=80)\n",
    "\n",
    "operations = {'+': add, '-': subt, '*': mul, '/': div}\n",
    "for i, (symbol, func) in enumerate(operations.items()):\n",
    "    Button(top, text=symbol, command=lambda op=symbol: calculate(op)).place(x=50 + i*85, y=110)\n",
    "\n",
    "l = Label(top)\n",
    "top.mainloop()\n"
   ]
  },
  {
   "cell_type": "markdown",
   "metadata": {},
   "source": [
    "GUI for SPAM Classifier"
   ]
  },
  {
   "cell_type": "code",
   "execution_count": null,
   "metadata": {},
   "outputs": [],
   "source": []
  },
  {
   "cell_type": "code",
   "execution_count": null,
   "metadata": {},
   "outputs": [],
   "source": []
  },
  {
   "cell_type": "code",
   "execution_count": 66,
   "metadata": {},
   "outputs": [],
   "source": [
    "import joblib\n",
    "from nltk.tokenize import word_tokenize\n",
    "from nltk.corpus import stopwords\n",
    "from nltk.stem import PorterStemmer\n",
    "\n",
    "top = Tk()\n",
    "top.title('My First Application')\n",
    "top.geometry('800x700')\n",
    " \n",
    "swords = stopwords.words('english')\n",
    "ps = PorterStemmer()\n",
    "\n",
    "def clean_text(sent):\n",
    "    tokens = [ps.stem(word) for word in word_tokenize(sent) if word.lower() not in swords and word.isalnum()]\n",
    "    return tokens\n",
    "\n",
    "def check():\n",
    "    classifier = joblib.load('classifier.model')\n",
    "    tfidf = joblib.load('preprocessor.model')\n",
    "    message = str(t.get('1.0', END))\n",
    "    result = classifier.predict(tfidf.transform([message]))\n",
    "    l.config(text = f\"Message is: \" + str(result[0]))\n",
    "    l.place(x=300, y=550)\n",
    "\n",
    "Label(top, text='Enter the message').place(x=50, y=30)\n",
    "t = Text(top)\n",
    "t.place(x=50, y=70)\n",
    "\n",
    "Button(top, text='Check', command=check).place(x=300, y=500)\n",
    "\n",
    "l = Label(top, text='Message is...')\n",
    "\n",
    "top.mainloop()"
   ]
  },
  {
   "cell_type": "code",
   "execution_count": null,
   "metadata": {},
   "outputs": [],
   "source": []
  },
  {
   "cell_type": "code",
   "execution_count": null,
   "metadata": {},
   "outputs": [],
   "source": []
  }
 ],
 "metadata": {
  "kernelspec": {
   "display_name": "New",
   "language": "python",
   "name": "python3"
  },
  "language_info": {
   "codemirror_mode": {
    "name": "ipython",
    "version": 3
   },
   "file_extension": ".py",
   "mimetype": "text/x-python",
   "name": "python",
   "nbconvert_exporter": "python",
   "pygments_lexer": "ipython3",
   "version": "3.10.13"
  }
 },
 "nbformat": 4,
 "nbformat_minor": 2
}
