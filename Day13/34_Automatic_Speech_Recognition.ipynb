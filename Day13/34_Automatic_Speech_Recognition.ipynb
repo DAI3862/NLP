{
 "cells": [
  {
   "cell_type": "code",
   "execution_count": 1,
   "metadata": {},
   "outputs": [
    {
     "name": "stdout",
     "output_type": "stream",
     "text": [
      "Collecting SpeechRecognition\n",
      "  Downloading SpeechRecognition-3.10.4-py2.py3-none-any.whl.metadata (28 kB)\n",
      "Collecting PyAudio\n",
      "  Downloading PyAudio-0.2.14-cp310-cp310-win_amd64.whl.metadata (2.7 kB)\n",
      "Requirement already satisfied: requests>=2.26.0 in c:\\users\\administrator.dai-pc2\\.conda\\envs\\new\\lib\\site-packages (from SpeechRecognition) (2.31.0)\n",
      "Requirement already satisfied: typing-extensions in c:\\users\\administrator.dai-pc2\\.conda\\envs\\new\\lib\\site-packages (from SpeechRecognition) (4.9.0)\n",
      "Requirement already satisfied: charset-normalizer<4,>=2 in c:\\users\\administrator.dai-pc2\\.conda\\envs\\new\\lib\\site-packages (from requests>=2.26.0->SpeechRecognition) (2.0.4)\n",
      "Requirement already satisfied: idna<4,>=2.5 in c:\\users\\administrator.dai-pc2\\.conda\\envs\\new\\lib\\site-packages (from requests>=2.26.0->SpeechRecognition) (3.4)\n",
      "Requirement already satisfied: urllib3<3,>=1.21.1 in c:\\users\\administrator.dai-pc2\\.conda\\envs\\new\\lib\\site-packages (from requests>=2.26.0->SpeechRecognition) (2.1.0)\n",
      "Requirement already satisfied: certifi>=2017.4.17 in c:\\users\\administrator.dai-pc2\\.conda\\envs\\new\\lib\\site-packages (from requests>=2.26.0->SpeechRecognition) (2024.2.2)\n",
      "Downloading SpeechRecognition-3.10.4-py2.py3-none-any.whl (32.8 MB)\n",
      "   ---------------------------------------- 0.0/32.8 MB ? eta -:--:--\n",
      "   ---------------------------------------- 0.1/32.8 MB 3.2 MB/s eta 0:00:11\n",
      "   ---------------------------------------- 0.4/32.8 MB 4.9 MB/s eta 0:00:07\n",
      "   - -------------------------------------- 1.2/32.8 MB 9.7 MB/s eta 0:00:04\n",
      "   --- ------------------------------------ 2.6/32.8 MB 16.6 MB/s eta 0:00:02\n",
      "   --- ------------------------------------ 2.7/32.8 MB 17.3 MB/s eta 0:00:02\n",
      "   --- ------------------------------------ 2.9/32.8 MB 13.0 MB/s eta 0:00:03\n",
      "   --- ------------------------------------ 3.1/32.8 MB 11.0 MB/s eta 0:00:03\n",
      "   ---- ----------------------------------- 3.4/32.8 MB 9.8 MB/s eta 0:00:04\n",
      "   ---- ----------------------------------- 3.7/32.8 MB 9.5 MB/s eta 0:00:04\n",
      "   ---- ----------------------------------- 4.0/32.8 MB 8.8 MB/s eta 0:00:04\n",
      "   ----- ---------------------------------- 4.5/32.8 MB 9.3 MB/s eta 0:00:04\n",
      "   ----- ---------------------------------- 4.6/32.8 MB 8.4 MB/s eta 0:00:04\n",
      "   ------ --------------------------------- 5.0/32.8 MB 8.5 MB/s eta 0:00:04\n",
      "   ------ --------------------------------- 5.2/32.8 MB 8.1 MB/s eta 0:00:04\n",
      "   ------ --------------------------------- 5.4/32.8 MB 7.9 MB/s eta 0:00:04\n",
      "   ------ --------------------------------- 5.7/32.8 MB 7.7 MB/s eta 0:00:04\n",
      "   ------- -------------------------------- 5.8/32.8 MB 7.4 MB/s eta 0:00:04\n",
      "   ------- -------------------------------- 6.1/32.8 MB 7.2 MB/s eta 0:00:04\n",
      "   ------- -------------------------------- 6.2/32.8 MB 7.1 MB/s eta 0:00:04\n",
      "   ------- -------------------------------- 6.5/32.8 MB 6.9 MB/s eta 0:00:04\n",
      "   -------- ------------------------------- 6.7/32.8 MB 6.9 MB/s eta 0:00:04\n",
      "   -------- ------------------------------- 7.0/32.8 MB 6.7 MB/s eta 0:00:04\n",
      "   -------- ------------------------------- 7.2/32.8 MB 6.7 MB/s eta 0:00:04\n",
      "   --------- ------------------------------ 7.4/32.8 MB 6.6 MB/s eta 0:00:04\n",
      "   --------- ------------------------------ 7.7/32.8 MB 6.6 MB/s eta 0:00:04\n",
      "   --------- ------------------------------ 7.9/32.8 MB 6.5 MB/s eta 0:00:04\n",
      "   --------- ------------------------------ 8.1/32.8 MB 6.5 MB/s eta 0:00:04\n",
      "   ---------- ----------------------------- 8.4/32.8 MB 6.3 MB/s eta 0:00:04\n",
      "   ---------- ----------------------------- 8.6/32.8 MB 6.3 MB/s eta 0:00:04\n",
      "   ---------- ----------------------------- 8.9/32.8 MB 6.3 MB/s eta 0:00:04\n",
      "   ----------- ---------------------------- 9.2/32.8 MB 6.3 MB/s eta 0:00:04\n",
      "   ----------- ---------------------------- 9.4/32.8 MB 6.3 MB/s eta 0:00:04\n",
      "   ----------- ---------------------------- 9.7/32.8 MB 6.2 MB/s eta 0:00:04\n",
      "   ------------ --------------------------- 10.0/32.8 MB 6.2 MB/s eta 0:00:04\n",
      "   ------------ --------------------------- 10.3/32.8 MB 6.2 MB/s eta 0:00:04\n",
      "   ------------ --------------------------- 10.5/32.8 MB 6.2 MB/s eta 0:00:04\n",
      "   ------------- -------------------------- 10.8/32.8 MB 6.2 MB/s eta 0:00:04\n",
      "   ------------- -------------------------- 11.1/32.8 MB 6.0 MB/s eta 0:00:04\n",
      "   ------------- -------------------------- 11.4/32.8 MB 5.9 MB/s eta 0:00:04\n",
      "   -------------- ------------------------- 11.7/32.8 MB 5.7 MB/s eta 0:00:04\n",
      "   -------------- ------------------------- 11.9/32.8 MB 5.5 MB/s eta 0:00:04\n",
      "   -------------- ------------------------- 12.1/32.8 MB 5.5 MB/s eta 0:00:04\n",
      "   --------------- ------------------------ 12.4/32.8 MB 5.4 MB/s eta 0:00:04\n",
      "   --------------- ------------------------ 12.7/32.8 MB 5.3 MB/s eta 0:00:04\n",
      "   --------------- ------------------------ 13.0/32.8 MB 5.3 MB/s eta 0:00:04\n",
      "   ---------------- ----------------------- 13.3/32.8 MB 5.4 MB/s eta 0:00:04\n",
      "   ---------------- ----------------------- 13.6/32.8 MB 5.4 MB/s eta 0:00:04\n",
      "   ---------------- ----------------------- 13.9/32.8 MB 5.4 MB/s eta 0:00:04\n",
      "   ----------------- ---------------------- 14.2/32.8 MB 5.4 MB/s eta 0:00:04\n",
      "   ----------------- ---------------------- 14.5/32.8 MB 5.4 MB/s eta 0:00:04\n",
      "   ------------------ --------------------- 14.8/32.8 MB 5.4 MB/s eta 0:00:04\n",
      "   ------------------ --------------------- 15.1/32.8 MB 5.3 MB/s eta 0:00:04\n",
      "   ------------------ --------------------- 15.5/32.8 MB 5.4 MB/s eta 0:00:04\n",
      "   ------------------- -------------------- 15.8/32.8 MB 5.4 MB/s eta 0:00:04\n",
      "   ------------------- -------------------- 16.1/32.8 MB 5.5 MB/s eta 0:00:04\n",
      "   ------------------- -------------------- 16.4/32.8 MB 5.6 MB/s eta 0:00:03\n",
      "   -------------------- ------------------- 16.7/32.8 MB 5.7 MB/s eta 0:00:03\n",
      "   -------------------- ------------------- 17.1/32.8 MB 5.7 MB/s eta 0:00:03\n",
      "   --------------------- ------------------ 17.3/32.8 MB 5.7 MB/s eta 0:00:03\n",
      "   --------------------- ------------------ 17.6/32.8 MB 5.7 MB/s eta 0:00:03\n",
      "   --------------------- ------------------ 17.9/32.8 MB 5.8 MB/s eta 0:00:03\n",
      "   ---------------------- ----------------- 18.2/32.8 MB 5.9 MB/s eta 0:00:03\n",
      "   ---------------------- ----------------- 18.6/32.8 MB 5.9 MB/s eta 0:00:03\n",
      "   ----------------------- ---------------- 18.9/32.8 MB 6.0 MB/s eta 0:00:03\n",
      "   ----------------------- ---------------- 19.2/32.8 MB 6.0 MB/s eta 0:00:03\n",
      "   ----------------------- ---------------- 19.4/32.8 MB 6.1 MB/s eta 0:00:03\n",
      "   ------------------------ --------------- 19.8/32.8 MB 6.2 MB/s eta 0:00:03\n",
      "   ------------------------ --------------- 20.1/32.8 MB 6.2 MB/s eta 0:00:03\n",
      "   ------------------------ --------------- 20.5/32.8 MB 6.2 MB/s eta 0:00:02\n",
      "   ------------------------- -------------- 20.9/32.8 MB 6.4 MB/s eta 0:00:02\n",
      "   ------------------------- -------------- 21.2/32.8 MB 6.4 MB/s eta 0:00:02\n",
      "   -------------------------- ------------- 21.6/32.8 MB 6.4 MB/s eta 0:00:02\n",
      "   -------------------------- ------------- 22.0/32.8 MB 6.5 MB/s eta 0:00:02\n",
      "   --------------------------- ------------ 22.3/32.8 MB 6.5 MB/s eta 0:00:02\n",
      "   --------------------------- ------------ 22.7/32.8 MB 6.6 MB/s eta 0:00:02\n",
      "   ---------------------------- ----------- 23.1/32.8 MB 6.6 MB/s eta 0:00:02\n",
      "   ---------------------------- ----------- 23.5/32.8 MB 6.7 MB/s eta 0:00:02\n",
      "   ---------------------------- ----------- 23.7/32.8 MB 6.7 MB/s eta 0:00:02\n",
      "   ----------------------------- ---------- 24.0/32.8 MB 6.8 MB/s eta 0:00:02\n",
      "   ----------------------------- ---------- 24.3/32.8 MB 6.8 MB/s eta 0:00:02\n",
      "   ----------------------------- ---------- 24.6/32.8 MB 6.7 MB/s eta 0:00:02\n",
      "   ------------------------------ --------- 25.0/32.8 MB 6.8 MB/s eta 0:00:02\n",
      "   ------------------------------ --------- 25.3/32.8 MB 6.9 MB/s eta 0:00:02\n",
      "   ------------------------------- -------- 25.7/32.8 MB 6.9 MB/s eta 0:00:02\n",
      "   ------------------------------- -------- 26.1/32.8 MB 6.9 MB/s eta 0:00:01\n",
      "   -------------------------------- ------- 26.4/32.8 MB 6.9 MB/s eta 0:00:01\n",
      "   -------------------------------- ------- 26.6/32.8 MB 6.9 MB/s eta 0:00:01\n",
      "   -------------------------------- ------- 27.0/32.8 MB 6.9 MB/s eta 0:00:01\n",
      "   --------------------------------- ------ 27.4/32.8 MB 6.9 MB/s eta 0:00:01\n",
      "   --------------------------------- ------ 27.7/32.8 MB 6.9 MB/s eta 0:00:01\n",
      "   ---------------------------------- ----- 28.1/32.8 MB 7.0 MB/s eta 0:00:01\n",
      "   ---------------------------------- ----- 28.4/32.8 MB 7.0 MB/s eta 0:00:01\n",
      "   ----------------------------------- ---- 28.9/32.8 MB 7.2 MB/s eta 0:00:01\n",
      "   ----------------------------------- ---- 29.3/32.8 MB 7.3 MB/s eta 0:00:01\n",
      "   ------------------------------------ --- 29.7/32.8 MB 7.3 MB/s eta 0:00:01\n",
      "   ------------------------------------ --- 30.1/32.8 MB 7.3 MB/s eta 0:00:01\n",
      "   ------------------------------------- -- 30.5/32.8 MB 7.3 MB/s eta 0:00:01\n",
      "   ------------------------------------- -- 30.8/32.8 MB 7.4 MB/s eta 0:00:01\n",
      "   -------------------------------------- - 31.3/32.8 MB 7.5 MB/s eta 0:00:01\n",
      "   -------------------------------------- - 31.7/32.8 MB 7.4 MB/s eta 0:00:01\n",
      "   ---------------------------------------  32.1/32.8 MB 7.4 MB/s eta 0:00:01\n",
      "   ---------------------------------------  32.4/32.8 MB 7.4 MB/s eta 0:00:01\n",
      "   ---------------------------------------  32.7/32.8 MB 7.4 MB/s eta 0:00:01\n",
      "   ---------------------------------------  32.8/32.8 MB 7.4 MB/s eta 0:00:01\n",
      "   ---------------------------------------  32.8/32.8 MB 7.4 MB/s eta 0:00:01\n",
      "   ---------------------------------------- 32.8/32.8 MB 6.8 MB/s eta 0:00:00\n",
      "Downloading PyAudio-0.2.14-cp310-cp310-win_amd64.whl (164 kB)\n",
      "   ---------------------------------------- 0.0/164.1 kB ? eta -:--:--\n",
      "   --------------------------------------- 164.1/164.1 kB 10.3 MB/s eta 0:00:00\n",
      "Installing collected packages: PyAudio, SpeechRecognition\n",
      "Successfully installed PyAudio-0.2.14 SpeechRecognition-3.10.4\n",
      "Note: you may need to restart the kernel to use updated packages.\n"
     ]
    }
   ],
   "source": [
    "pip install SpeechRecognition PyAudio"
   ]
  },
  {
   "cell_type": "markdown",
   "metadata": {},
   "source": [
    "Import the Package"
   ]
  },
  {
   "cell_type": "code",
   "execution_count": 2,
   "metadata": {},
   "outputs": [],
   "source": [
    "import speech_recognition as sr"
   ]
  },
  {
   "cell_type": "markdown",
   "metadata": {},
   "source": [
    "Create the object of Microphone"
   ]
  },
  {
   "cell_type": "code",
   "execution_count": 3,
   "metadata": {},
   "outputs": [],
   "source": [
    "r = sr.Recognizer()"
   ]
  },
  {
   "cell_type": "markdown",
   "metadata": {},
   "source": [
    "Open Microphone, Recognize and Convert"
   ]
  },
  {
   "cell_type": "code",
   "execution_count": 7,
   "metadata": {},
   "outputs": [
    {
     "name": "stdout",
     "output_type": "stream",
     "text": [
      "Speak: \n"
     ]
    },
    {
     "ename": "KeyboardInterrupt",
     "evalue": "",
     "output_type": "error",
     "traceback": [
      "\u001b[1;31m---------------------------------------------------------------------------\u001b[0m",
      "\u001b[1;31mKeyboardInterrupt\u001b[0m                         Traceback (most recent call last)",
      "Cell \u001b[1;32mIn[7], line 4\u001b[0m\n\u001b[0;32m      2\u001b[0m r\u001b[38;5;241m.\u001b[39madjust_for_ambient_noise(source)\n\u001b[0;32m      3\u001b[0m \u001b[38;5;28mprint\u001b[39m(\u001b[38;5;124m'\u001b[39m\u001b[38;5;124mSpeak: \u001b[39m\u001b[38;5;124m'\u001b[39m)\n\u001b[1;32m----> 4\u001b[0m audio \u001b[38;5;241m=\u001b[39m \u001b[43mr\u001b[49m\u001b[38;5;241;43m.\u001b[39;49m\u001b[43mlisten\u001b[49m\u001b[43m(\u001b[49m\u001b[43msource\u001b[49m\u001b[43m)\u001b[49m\n\u001b[0;32m      5\u001b[0m \u001b[38;5;28mprint\u001b[39m(\u001b[38;5;124m'\u001b[39m\u001b[38;5;124mYou said: \u001b[39m\u001b[38;5;124m'\u001b[39m, r\u001b[38;5;241m.\u001b[39mrecognize_google(audio))\n",
      "File \u001b[1;32mc:\\Users\\Administrator.DAI-PC2\\.conda\\envs\\New\\lib\\site-packages\\speech_recognition\\__init__.py:523\u001b[0m, in \u001b[0;36mRecognizer.listen\u001b[1;34m(self, source, timeout, phrase_time_limit, snowboy_configuration)\u001b[0m\n\u001b[0;32m    520\u001b[0m \u001b[38;5;28;01mif\u001b[39;00m phrase_time_limit \u001b[38;5;129;01mand\u001b[39;00m elapsed_time \u001b[38;5;241m-\u001b[39m phrase_start_time \u001b[38;5;241m>\u001b[39m phrase_time_limit:\n\u001b[0;32m    521\u001b[0m     \u001b[38;5;28;01mbreak\u001b[39;00m\n\u001b[1;32m--> 523\u001b[0m buffer \u001b[38;5;241m=\u001b[39m \u001b[43msource\u001b[49m\u001b[38;5;241;43m.\u001b[39;49m\u001b[43mstream\u001b[49m\u001b[38;5;241;43m.\u001b[39;49m\u001b[43mread\u001b[49m\u001b[43m(\u001b[49m\u001b[43msource\u001b[49m\u001b[38;5;241;43m.\u001b[39;49m\u001b[43mCHUNK\u001b[49m\u001b[43m)\u001b[49m\n\u001b[0;32m    524\u001b[0m \u001b[38;5;28;01mif\u001b[39;00m \u001b[38;5;28mlen\u001b[39m(buffer) \u001b[38;5;241m==\u001b[39m \u001b[38;5;241m0\u001b[39m: \u001b[38;5;28;01mbreak\u001b[39;00m  \u001b[38;5;66;03m# reached end of the stream\u001b[39;00m\n\u001b[0;32m    525\u001b[0m frames\u001b[38;5;241m.\u001b[39mappend(buffer)\n",
      "File \u001b[1;32mc:\\Users\\Administrator.DAI-PC2\\.conda\\envs\\New\\lib\\site-packages\\speech_recognition\\__init__.py:199\u001b[0m, in \u001b[0;36mMicrophone.MicrophoneStream.read\u001b[1;34m(self, size)\u001b[0m\n\u001b[0;32m    198\u001b[0m \u001b[38;5;28;01mdef\u001b[39;00m \u001b[38;5;21mread\u001b[39m(\u001b[38;5;28mself\u001b[39m, size):\n\u001b[1;32m--> 199\u001b[0m     \u001b[38;5;28;01mreturn\u001b[39;00m \u001b[38;5;28;43mself\u001b[39;49m\u001b[38;5;241;43m.\u001b[39;49m\u001b[43mpyaudio_stream\u001b[49m\u001b[38;5;241;43m.\u001b[39;49m\u001b[43mread\u001b[49m\u001b[43m(\u001b[49m\u001b[43msize\u001b[49m\u001b[43m,\u001b[49m\u001b[43m \u001b[49m\u001b[43mexception_on_overflow\u001b[49m\u001b[38;5;241;43m=\u001b[39;49m\u001b[38;5;28;43;01mFalse\u001b[39;49;00m\u001b[43m)\u001b[49m\n",
      "File \u001b[1;32mc:\\Users\\Administrator.DAI-PC2\\.conda\\envs\\New\\lib\\site-packages\\pyaudio\\__init__.py:570\u001b[0m, in \u001b[0;36mPyAudio.Stream.read\u001b[1;34m(self, num_frames, exception_on_overflow)\u001b[0m\n\u001b[0;32m    567\u001b[0m \u001b[38;5;28;01mif\u001b[39;00m \u001b[38;5;129;01mnot\u001b[39;00m \u001b[38;5;28mself\u001b[39m\u001b[38;5;241m.\u001b[39m_is_input:\n\u001b[0;32m    568\u001b[0m     \u001b[38;5;28;01mraise\u001b[39;00m \u001b[38;5;167;01mIOError\u001b[39;00m(\u001b[38;5;124m\"\u001b[39m\u001b[38;5;124mNot input stream\u001b[39m\u001b[38;5;124m\"\u001b[39m,\n\u001b[0;32m    569\u001b[0m                   paCanNotReadFromAnOutputOnlyStream)\n\u001b[1;32m--> 570\u001b[0m \u001b[38;5;28;01mreturn\u001b[39;00m \u001b[43mpa\u001b[49m\u001b[38;5;241;43m.\u001b[39;49m\u001b[43mread_stream\u001b[49m\u001b[43m(\u001b[49m\u001b[38;5;28;43mself\u001b[39;49m\u001b[38;5;241;43m.\u001b[39;49m\u001b[43m_stream\u001b[49m\u001b[43m,\u001b[49m\u001b[43m \u001b[49m\u001b[43mnum_frames\u001b[49m\u001b[43m,\u001b[49m\n\u001b[0;32m    571\u001b[0m \u001b[43m                      \u001b[49m\u001b[43mexception_on_overflow\u001b[49m\u001b[43m)\u001b[49m\n",
      "\u001b[1;31mKeyboardInterrupt\u001b[0m: "
     ]
    }
   ],
   "source": [
    "with sr.Microphone() as source:\n",
    "    r.adjust_for_ambient_noise(source)\n",
    "    print('Speak: ')\n",
    "    audio = r.listen(source)\n",
    "    print('You said: ', r.recognize_google(audio))"
   ]
  },
  {
   "cell_type": "code",
   "execution_count": null,
   "metadata": {},
   "outputs": [],
   "source": []
  },
  {
   "cell_type": "code",
   "execution_count": null,
   "metadata": {},
   "outputs": [],
   "source": []
  },
  {
   "cell_type": "code",
   "execution_count": null,
   "metadata": {},
   "outputs": [],
   "source": []
  },
  {
   "cell_type": "code",
   "execution_count": null,
   "metadata": {},
   "outputs": [],
   "source": []
  },
  {
   "cell_type": "code",
   "execution_count": null,
   "metadata": {},
   "outputs": [],
   "source": []
  },
  {
   "cell_type": "code",
   "execution_count": null,
   "metadata": {},
   "outputs": [],
   "source": []
  }
 ],
 "metadata": {
  "kernelspec": {
   "display_name": "New",
   "language": "python",
   "name": "python3"
  },
  "language_info": {
   "codemirror_mode": {
    "name": "ipython",
    "version": 3
   },
   "file_extension": ".py",
   "mimetype": "text/x-python",
   "name": "python",
   "nbconvert_exporter": "python",
   "pygments_lexer": "ipython3",
   "version": "3.10.13"
  }
 },
 "nbformat": 4,
 "nbformat_minor": 2
}
