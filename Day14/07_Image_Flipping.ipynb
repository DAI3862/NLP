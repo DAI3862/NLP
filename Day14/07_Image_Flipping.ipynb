{
 "cells": [
  {
   "cell_type": "code",
   "execution_count": 1,
   "metadata": {},
   "outputs": [],
   "source": [
    "import cv2\n",
    "\n",
    "# load the image\n",
    "image = cv2.imread('../images/lenna.png')\n",
    "\n",
    "# flipped horizontally\n",
    "flipped_h = cv2.flip(image, 0)\n",
    "\n",
    "# flipped vertically\n",
    "flipped_v = cv2.flip(image, 1)\n",
    "\n",
    "# flipped diagonally\n",
    "flipped_d = cv2.flip(image, -1)\n",
    "\n",
    "# show images\n",
    "cv2.imshow('Original', image)\n",
    "cv2.imshow('Horizontal', flipped_h)\n",
    "cv2.imshow('Vertical', flipped_v)\n",
    "cv2.imshow('Diagonal', flipped_d)\n",
    "cv2.waitKey(0)\n",
    "cv2.destroyAllWindows()"
   ]
  }
 ],
 "metadata": {
  "kernelspec": {
   "display_name": "New",
   "language": "python",
   "name": "python3"
  },
  "language_info": {
   "codemirror_mode": {
    "name": "ipython",
    "version": 3
   },
   "file_extension": ".py",
   "mimetype": "text/x-python",
   "name": "python",
   "nbconvert_exporter": "python",
   "pygments_lexer": "ipython3",
   "version": "3.10.13"
  }
 },
 "nbformat": 4,
 "nbformat_minor": 2
}
