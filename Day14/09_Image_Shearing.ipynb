{
 "cells": [
  {
   "cell_type": "code",
   "execution_count": 8,
   "metadata": {},
   "outputs": [],
   "source": [
    "import cv2\n",
    "import numpy as np\n",
    "\n",
    "# load image\n",
    "image = cv2.imread('../images/lenna.png')\n",
    "\n",
    "# define shearing factors (adjust as needed)\n",
    "shear_x = 0.30 # Shear along x-axis\n",
    "shear_y = 0.25 # Shear along y-axis\n",
    "\n",
    "# create transform matrix\n",
    "M = np.array([[1, shear_x, 0], \n",
    "              [shear_y, 1, 0],\n",
    "              [0, 0, 1]])\n",
    "\n",
    "rows, cols, _ = image.shape\n",
    "\n",
    "T = np.float32([[1, 0, 0], [0, 1, 150]])\n",
    "\n",
    "# we use warpAffine to transform the images using the matrix T\n",
    "img_translation = cv2.warpAffine(image, T, (int(cols* 1.5), int(rows* 1.5)))\n",
    "sheared_img = cv2.warpPerspective(img_translation, M, (int(cols* 1.5), int(rows* 1.5)))\n",
    "\n",
    "cv2.imshow('img', img_translation)\n",
    "cv2.waitKey(0)\n",
    "cv2.destroyAllWindows()\n",
    "\n",
    "cv2.imshow('img', sheared_img)\n",
    "cv2.waitKey(0)\n",
    "cv2.destroyAllWindows()"
   ]
  },
  {
   "cell_type": "code",
   "execution_count": null,
   "metadata": {},
   "outputs": [],
   "source": []
  },
  {
   "cell_type": "code",
   "execution_count": null,
   "metadata": {},
   "outputs": [],
   "source": []
  }
 ],
 "metadata": {
  "kernelspec": {
   "display_name": "New",
   "language": "python",
   "name": "python3"
  },
  "language_info": {
   "codemirror_mode": {
    "name": "ipython",
    "version": 3
   },
   "file_extension": ".py",
   "mimetype": "text/x-python",
   "name": "python",
   "nbconvert_exporter": "python",
   "pygments_lexer": "ipython3",
   "version": "3.10.13"
  }
 },
 "nbformat": 4,
 "nbformat_minor": 2
}
