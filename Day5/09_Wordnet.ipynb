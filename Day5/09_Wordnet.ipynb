{
 "cells": [
  {
   "cell_type": "code",
   "execution_count": 1,
   "metadata": {},
   "outputs": [],
   "source": [
    "from nltk.corpus import wordnet"
   ]
  },
  {
   "cell_type": "code",
   "execution_count": 2,
   "metadata": {},
   "outputs": [
    {
     "data": {
      "text/plain": [
       "<WordNetCorpusReader in 'C:\\\\Users\\\\Administrator.DAI-PC2\\\\AppData\\\\Roaming\\\\nltk_data\\\\corpora\\\\wordnet.zip/wordnet/'>"
      ]
     },
     "execution_count": 2,
     "metadata": {},
     "output_type": "execute_result"
    }
   ],
   "source": [
    "wordnet"
   ]
  },
  {
   "cell_type": "code",
   "execution_count": 3,
   "metadata": {},
   "outputs": [],
   "source": [
    "X = wordnet.synsets('create')"
   ]
  },
  {
   "cell_type": "code",
   "execution_count": 4,
   "metadata": {},
   "outputs": [
    {
     "data": {
      "text/plain": [
       "[Synset('make.v.03'),\n",
       " Synset('create.v.02'),\n",
       " Synset('create.v.03'),\n",
       " Synset('create.v.04'),\n",
       " Synset('create.v.05'),\n",
       " Synset('produce.v.02')]"
      ]
     },
     "execution_count": 4,
     "metadata": {},
     "output_type": "execute_result"
    }
   ],
   "source": [
    "X"
   ]
  },
  {
   "cell_type": "code",
   "execution_count": 25,
   "metadata": {},
   "outputs": [
    {
     "data": {
      "text/plain": [
       "{'adept',\n",
       " 'beneficial',\n",
       " 'commodity',\n",
       " 'dear',\n",
       " 'dependable',\n",
       " 'effective',\n",
       " 'estimable',\n",
       " 'full',\n",
       " 'good',\n",
       " 'thoroughly',\n",
       " 'well'}"
      ]
     },
     "execution_count": 25,
     "metadata": {},
     "output_type": "execute_result"
    }
   ],
   "source": [
    "synonyms = set()\n",
    "\n",
    "for word in wordnet.synsets('good'):\n",
    "    synonyms.add(word.lemmas()[0].name())\n",
    "\n",
    "synonyms"
   ]
  },
  {
   "cell_type": "code",
   "execution_count": 35,
   "metadata": {},
   "outputs": [
    {
     "name": "stdout",
     "output_type": "stream",
     "text": [
      "Word and Type: post.n.01\n",
      "Synonym: post\n",
      "The meaning of word: the position where someone (as a guard or sentry) stands or is assigned to stand\n",
      "Example: ['a soldier manned the entrance post', 'a sentry station']\n"
     ]
    }
   ],
   "source": [
    "synset = wordnet.synsets('post')\n",
    "print('Word and Type: ' + synset[0].name())\n",
    "print('Synonym: ' + synset[0].lemmas()[0].name())\n",
    "print('The meaning of word: ' + synset[0].definition())\n",
    "print('Example: ' + str(synset[0].examples()))"
   ]
  },
  {
   "cell_type": "code",
   "execution_count": 36,
   "metadata": {},
   "outputs": [
    {
     "name": "stdout",
     "output_type": "stream",
     "text": [
      "Word and Type: position.n.06\n",
      "Synonym: position\n",
      "The meaning of word: a job in an organization\n",
      "Example: ['he occupied a post in the treasury']\n"
     ]
    }
   ],
   "source": [
    "synset = wordnet.synsets('post')\n",
    "print('Word and Type: ' + synset[2].name())\n",
    "print('Synonym: ' + synset[2].lemmas()[0].name())\n",
    "print('The meaning of word: ' + synset[2].definition())\n",
    "print('Example: ' + str(synset[2].examples()))"
   ]
  },
  {
   "cell_type": "code",
   "execution_count": 37,
   "metadata": {},
   "outputs": [
    {
     "name": "stdout",
     "output_type": "stream",
     "text": [
      "Word and Type: post.n.06\n",
      "Synonym: Post\n",
      "The meaning of word: United States female author who wrote a book and a syndicated newspaper column on etiquette (1872-1960)\n",
      "Example: []\n"
     ]
    }
   ],
   "source": [
    "synset = wordnet.synsets('post')\n",
    "print('Word and Type: ' + synset[5].name())\n",
    "print('Synonym: ' + synset[5].lemmas()[0].name())\n",
    "print('The meaning of word: ' + synset[5].definition())\n",
    "print('Example: ' + str(synset[5].examples()))"
   ]
  },
  {
   "cell_type": "code",
   "execution_count": 38,
   "metadata": {},
   "outputs": [
    {
     "name": "stdout",
     "output_type": "stream",
     "text": [
      "Word and Type: post.n.09\n",
      "Synonym: post\n",
      "The meaning of word: a pole or stake set up to mark something (as the start or end of a race track)\n",
      "Example: ['a pair of posts marked the goal', 'the corner of the lot was indicated by a stake']\n"
     ]
    }
   ],
   "source": [
    "synset = wordnet.synsets('post')\n",
    "print('Word and Type: ' + synset[8].name())\n",
    "print('Synonym: ' + synset[8].lemmas()[0].name())\n",
    "print('The meaning of word: ' + synset[8].definition())\n",
    "print('Example: ' + str(synset[8].examples()))"
   ]
  },
  {
   "cell_type": "code",
   "execution_count": 39,
   "metadata": {},
   "outputs": [
    {
     "data": {
      "text/plain": [
       "[Synset('post.n.01'),\n",
       " Synset('military_post.n.01'),\n",
       " Synset('position.n.06'),\n",
       " Synset('post.n.04'),\n",
       " Synset('post.n.05'),\n",
       " Synset('post.n.06'),\n",
       " Synset('post.n.07'),\n",
       " Synset('mail.n.04'),\n",
       " Synset('post.n.09'),\n",
       " Synset('mail.n.02'),\n",
       " Synset('post.n.11'),\n",
       " Synset('post.v.01'),\n",
       " Synset('post.v.02'),\n",
       " Synset('post.v.03'),\n",
       " Synset('station.v.01'),\n",
       " Synset('post.v.05'),\n",
       " Synset('post.v.06'),\n",
       " Synset('post.v.07'),\n",
       " Synset('post.v.08'),\n",
       " Synset('stake.v.03'),\n",
       " Synset('post.v.10'),\n",
       " Synset('mail.v.02'),\n",
       " Synset('post.v.12')]"
      ]
     },
     "execution_count": 39,
     "metadata": {},
     "output_type": "execute_result"
    }
   ],
   "source": [
    "synset"
   ]
  },
  {
   "cell_type": "code",
   "execution_count": 40,
   "metadata": {},
   "outputs": [
    {
     "name": "stdout",
     "output_type": "stream",
     "text": [
      "sound.n.01\n",
      "sound.n.02\n",
      "sound.n.03\n",
      "sound.n.04\n",
      "audio.n.01\n",
      "phone.n.02\n",
      "strait.n.01\n",
      "sound.n.08\n",
      "sound.v.01\n",
      "sound.v.02\n",
      "sound.v.03\n",
      "sound.v.04\n",
      "voice.v.02\n",
      "sound.v.06\n",
      "fathom.v.02\n",
      "sound.a.01\n",
      "healthy.s.04\n",
      "sound.a.03\n",
      "good.s.17\n",
      "reasoned.s.01\n",
      "legal.s.03\n",
      "sound.s.07\n",
      "heavy.s.26\n",
      "sound.s.09\n"
     ]
    }
   ],
   "source": [
    "for word in wordnet.synsets('sound'):\n",
    "    print(word.name())"
   ]
  },
  {
   "cell_type": "code",
   "execution_count": 42,
   "metadata": {},
   "outputs": [
    {
     "name": "stdout",
     "output_type": "stream",
     "text": [
      "sound.v.01\n",
      "sound.v.02\n",
      "sound.v.03\n",
      "sound.v.04\n",
      "voice.v.02\n",
      "sound.v.06\n",
      "fathom.v.02\n"
     ]
    }
   ],
   "source": [
    "# Display only verbs\n",
    "for word in wordnet.synsets('sound', pos='v'):\n",
    "    print(word.name())"
   ]
  },
  {
   "cell_type": "code",
   "execution_count": 43,
   "metadata": {},
   "outputs": [
    {
     "name": "stdout",
     "output_type": "stream",
     "text": [
      "sound.n.01\n",
      "sound.n.02\n",
      "sound.n.03\n",
      "sound.n.04\n",
      "audio.n.01\n",
      "phone.n.02\n",
      "strait.n.01\n",
      "sound.n.08\n"
     ]
    }
   ],
   "source": [
    "for word in wordnet.synsets('sound', pos='n'):\n",
    "    print(word.name())"
   ]
  },
  {
   "cell_type": "markdown",
   "metadata": {},
   "source": [
    "Read word from user and get all the meanings.  "
   ]
  },
  {
   "cell_type": "code",
   "execution_count": 48,
   "metadata": {},
   "outputs": [
    {
     "name": "stdout",
     "output_type": "stream",
     "text": [
      "trial.n.02 --> trying something to find out about it\n",
      "test.n.02 --> any standardized procedure for measuring sensitivity or memory or intelligence or aptitude or personality etc\n",
      "examination.n.02 --> a set of questions or exercises evaluating skill or knowledge\n",
      "test.n.04 --> the act of undergoing testing\n",
      "test.n.05 --> the act of testing something\n",
      "test.n.06 --> a hard outer covering as of some amoebas and sea urchins\n",
      "test.v.01 --> put to the test, as for its quality, or give experimental use to\n",
      "screen.v.01 --> test or examine for the presence of disease or infection\n",
      "quiz.v.01 --> examine someone's knowledge of something\n",
      "test.v.04 --> show a certain characteristic when tested\n",
      "test.v.05 --> achieve a certain score or rating on a test\n",
      "test.v.06 --> determine the presence or properties of (a substance)\n",
      "test.v.07 --> undergo a test\n"
     ]
    }
   ],
   "source": [
    "word = input('Enter the word: ')\n",
    "\n",
    "for word in wordnet.synsets(word):\n",
    "\n",
    "    print(word.name(), '-->', word.definition())"
   ]
  },
  {
   "cell_type": "markdown",
   "metadata": {},
   "source": [
    "Read word from user and get all noun the meanings."
   ]
  },
  {
   "cell_type": "code",
   "execution_count": 49,
   "metadata": {},
   "outputs": [
    {
     "name": "stdout",
     "output_type": "stream",
     "text": [
      "trial.n.02 --> trying something to find out about it\n",
      "test.n.02 --> any standardized procedure for measuring sensitivity or memory or intelligence or aptitude or personality etc\n",
      "examination.n.02 --> a set of questions or exercises evaluating skill or knowledge\n",
      "test.n.04 --> the act of undergoing testing\n",
      "test.n.05 --> the act of testing something\n",
      "test.n.06 --> a hard outer covering as of some amoebas and sea urchins\n"
     ]
    }
   ],
   "source": [
    "word = input('Enter the word: ')\n",
    "\n",
    "for word in wordnet.synsets(word, pos='n'):\n",
    "    print(word.name(), '-->', word.definition())"
   ]
  },
  {
   "cell_type": "markdown",
   "metadata": {},
   "source": [
    "Extract specific position word"
   ]
  },
  {
   "cell_type": "code",
   "execution_count": 50,
   "metadata": {},
   "outputs": [],
   "source": [
    "verbs = set()\n",
    "nouns = set()\n",
    "adjs = set()\n",
    "\n",
    "for word in wordnet.synsets('sound', pos='n'):\n",
    "    nouns.add(word.lemmas()[0].name())\n",
    "\n",
    "for word in wordnet.synsets('sound', pos='v'):\n",
    "    verbs.add(word.lemmas()[0].name())\n",
    "\n",
    "for word in wordnet.synsets('sound', pos='a'):\n",
    "    adjs.add(word.lemmas()[0].name())"
   ]
  },
  {
   "cell_type": "code",
   "execution_count": 51,
   "metadata": {},
   "outputs": [
    {
     "data": {
      "text/plain": [
       "{'fathom', 'sound', 'voice'}"
      ]
     },
     "execution_count": 51,
     "metadata": {},
     "output_type": "execute_result"
    }
   ],
   "source": [
    "verbs"
   ]
  },
  {
   "cell_type": "code",
   "execution_count": 52,
   "metadata": {},
   "outputs": [
    {
     "data": {
      "text/plain": [
       "{'audio', 'phone', 'sound', 'strait'}"
      ]
     },
     "execution_count": 52,
     "metadata": {},
     "output_type": "execute_result"
    }
   ],
   "source": [
    "nouns"
   ]
  },
  {
   "cell_type": "code",
   "execution_count": 53,
   "metadata": {},
   "outputs": [
    {
     "data": {
      "text/plain": [
       "{'good', 'healthy', 'heavy', 'legal', 'reasoned', 'sound'}"
      ]
     },
     "execution_count": 53,
     "metadata": {},
     "output_type": "execute_result"
    }
   ],
   "source": [
    "adjs"
   ]
  },
  {
   "cell_type": "markdown",
   "metadata": {},
   "source": [
    "Find Antonyms of words"
   ]
  },
  {
   "cell_type": "code",
   "execution_count": 58,
   "metadata": {},
   "outputs": [
    {
     "name": "stdout",
     "output_type": "stream",
     "text": [
      "Antonyms:  {'falsify', 'incorrect', 'wrong'}\n"
     ]
    }
   ],
   "source": [
    "antonyms = set()\n",
    "\n",
    "for synset in wordnet.synsets('correct'):\n",
    "    for lemma in synset.lemmas():\n",
    "        if lemma.antonyms():\n",
    "            antonyms.add(lemma.antonyms()[0].name())\n",
    "\n",
    "print('Antonyms: ', antonyms)"
   ]
  },
  {
   "cell_type": "markdown",
   "metadata": {},
   "source": [
    "Hypernyms"
   ]
  },
  {
   "cell_type": "code",
   "execution_count": 67,
   "metadata": {},
   "outputs": [
    {
     "name": "stdout",
     "output_type": "stream",
     "text": [
      "dance is a hypernym of art.n.01\n",
      "dance is a hypernym of party.n.02\n",
      "dance is a hypernym of diversion.n.01\n",
      "dance is a hypernym of performing_arts.n.01\n",
      "dance is a hypernym of party.n.04\n",
      "dance is a hypernym of move.v.03\n",
      "dance is a hypernym of move.v.03\n",
      "dance is a hypernym of move.v.03\n"
     ]
    }
   ],
   "source": [
    "word = 'dance'\n",
    "synsets = wordnet.synsets(word)\n",
    "\n",
    "for synset in synsets:\n",
    "    \n",
    "    # Get hypernym (parent concept)\n",
    "    hypernyms = synset.hypernyms()\n",
    "\n",
    "    # Check if there are any hypernyms\n",
    "    if hypernyms:\n",
    "        # Print hypernyms (can access name property of text)\n",
    "        for hypernym in hypernyms:\n",
    "            print(f'{word} is a hypernym of {hypernym.name()}')\n",
    "        "
   ]
  },
  {
   "cell_type": "markdown",
   "metadata": {},
   "source": [
    "Hyponyms"
   ]
  },
  {
   "cell_type": "code",
   "execution_count": 70,
   "metadata": {},
   "outputs": [
    {
     "name": "stdout",
     "output_type": "stream",
     "text": [
      "dance is a hyponym of choreography.n.02\n",
      "dance is a hyponym of extension.n.08\n",
      "dance is a hyponym of ball.n.04\n",
      "dance is a hyponym of adagio.n.02\n",
      "dance is a hyponym of break_dancing.n.01\n",
      "dance is a hyponym of courante.n.01\n",
      "dance is a hyponym of mambo.n.01\n",
      "dance is a hyponym of nautch.n.01\n",
      "dance is a hyponym of pas_de_deux.n.01\n",
      "dance is a hyponym of pas_de_quatre.n.01\n",
      "dance is a hyponym of pas_de_trois.n.01\n",
      "dance is a hyponym of pas_seul.n.01\n",
      "dance is a hyponym of pavane.n.02\n",
      "dance is a hyponym of phrase.n.04\n",
      "dance is a hyponym of ritual_dancing.n.01\n",
      "dance is a hyponym of saraband.n.02\n",
      "dance is a hyponym of skank.n.02\n",
      "dance is a hyponym of slam_dancing.n.01\n",
      "dance is a hyponym of social_dancing.n.01\n",
      "dance is a hyponym of stage_dancing.n.01\n",
      "dance is a hyponym of step_dancing.n.01\n",
      "dance is a hyponym of toe_dancing.n.01\n",
      "dance is a hyponym of ball.n.09\n",
      "dance is a hyponym of barn_dance.n.01\n",
      "dance is a hyponym of hop.n.03\n",
      "dance is a hyponym of rave.n.01\n",
      "dance is a hyponym of capriole.v.02\n",
      "dance is a hyponym of chasse.v.01\n",
      "dance is a hyponym of glissade.v.01\n",
      "dance is a hyponym of belly_dance.v.01\n",
      "dance is a hyponym of boogie.v.01\n",
      "dance is a hyponym of bop.v.01\n",
      "dance is a hyponym of break_dance.v.01\n",
      "dance is a hyponym of bump.v.03\n",
      "dance is a hyponym of cakewalk.v.01\n",
      "dance is a hyponym of cha-cha.v.01\n",
      "dance is a hyponym of charleston.v.01\n",
      "dance is a hyponym of clog.v.02\n",
      "dance is a hyponym of conga.v.01\n",
      "dance is a hyponym of contradance.v.01\n",
      "dance is a hyponym of disco.v.01\n",
      "dance is a hyponym of folk_dance.v.01\n",
      "dance is a hyponym of foxtrot.v.01\n",
      "dance is a hyponym of grind.v.04\n",
      "dance is a hyponym of heel.v.03\n",
      "dance is a hyponym of hoof.v.02\n",
      "dance is a hyponym of jig.v.01\n",
      "dance is a hyponym of jitterbug.v.01\n",
      "dance is a hyponym of jive.v.01\n",
      "dance is a hyponym of kick.v.04\n",
      "dance is a hyponym of mambo.v.01\n",
      "dance is a hyponym of one-step.v.01\n",
      "dance is a hyponym of polka.v.01\n",
      "dance is a hyponym of quickstep.v.01\n",
      "dance is a hyponym of rhumba.v.01\n",
      "dance is a hyponym of samba.v.01\n",
      "dance is a hyponym of shag.v.01\n",
      "dance is a hyponym of shimmy.v.02\n",
      "dance is a hyponym of skank.v.01\n",
      "dance is a hyponym of slam_dance.v.01\n",
      "dance is a hyponym of square_dance.v.01\n",
      "dance is a hyponym of tango.v.01\n",
      "dance is a hyponym of tap_dance.v.01\n",
      "dance is a hyponym of tapdance.v.01\n",
      "dance is a hyponym of twist.v.07\n",
      "dance is a hyponym of two-step.v.01\n",
      "dance is a hyponym of waltz.v.01\n"
     ]
    }
   ],
   "source": [
    "word = 'dance'\n",
    "synsets = wordnet.synsets(word)\n",
    "\n",
    "for synset in synsets:\n",
    "\n",
    "    # Get hyponym (parent concept)\n",
    "    hyponyms = synset.hyponyms()\n",
    "\n",
    "    # Check if there are any hyponyms\n",
    "    if hyponyms:\n",
    "        # Print hyponyms (can access name property of text)\n",
    "        for hyponym in hyponyms:\n",
    "            print(f'{word} is a hyponym of {hyponym.name()}')\n",
    "        "
   ]
  },
  {
   "cell_type": "markdown",
   "metadata": {},
   "source": [
    "Meronyms"
   ]
  },
  {
   "cell_type": "code",
   "execution_count": 74,
   "metadata": {},
   "outputs": [
    {
     "name": "stdout",
     "output_type": "stream",
     "text": [
      "car is a meronym of accelerator.n.01\n",
      "car is a meronym of air_bag.n.01\n",
      "car is a meronym of auto_accessory.n.01\n",
      "car is a meronym of automobile_engine.n.01\n",
      "car is a meronym of automobile_horn.n.01\n",
      "car is a meronym of buffer.n.06\n",
      "car is a meronym of bumper.n.02\n",
      "car is a meronym of car_door.n.01\n",
      "car is a meronym of car_mirror.n.01\n",
      "car is a meronym of car_seat.n.01\n",
      "car is a meronym of car_window.n.01\n",
      "car is a meronym of fender.n.01\n",
      "car is a meronym of first_gear.n.01\n",
      "car is a meronym of floorboard.n.02\n",
      "car is a meronym of gasoline_engine.n.01\n",
      "car is a meronym of glove_compartment.n.01\n",
      "car is a meronym of grille.n.02\n",
      "car is a meronym of high_gear.n.01\n",
      "car is a meronym of hood.n.09\n",
      "car is a meronym of luggage_compartment.n.01\n",
      "car is a meronym of rear_window.n.01\n",
      "car is a meronym of reverse.n.02\n",
      "car is a meronym of roof.n.02\n",
      "car is a meronym of running_board.n.01\n",
      "car is a meronym of stabilizer_bar.n.01\n",
      "car is a meronym of sunroof.n.01\n",
      "car is a meronym of tail_fin.n.02\n",
      "car is a meronym of third_gear.n.01\n",
      "car is a meronym of window.n.02\n",
      "car is a meronym of suspension.n.05\n"
     ]
    }
   ],
   "source": [
    "word = 'car'\n",
    "synsets = wordnet.synsets(word)\n",
    "\n",
    "for synset in synsets:\n",
    "\n",
    "    # Get meronym (parent concept)\n",
    "    meronyms = synset.part_meronyms()\n",
    "\n",
    "    # Check if there are any meronyms\n",
    "    if meronyms:\n",
    "        # Print meronyms (can access name property of text)\n",
    "        for meronym in meronyms:\n",
    "            print(f'{word} is a meronym of {meronym.name()}')"
   ]
  },
  {
   "cell_type": "code",
   "execution_count": null,
   "metadata": {},
   "outputs": [],
   "source": []
  }
 ],
 "metadata": {
  "kernelspec": {
   "display_name": "New",
   "language": "python",
   "name": "python3"
  },
  "language_info": {
   "codemirror_mode": {
    "name": "ipython",
    "version": 3
   },
   "file_extension": ".py",
   "mimetype": "text/x-python",
   "name": "python",
   "nbconvert_exporter": "python",
   "pygments_lexer": "ipython3",
   "version": "3.10.13"
  }
 },
 "nbformat": 4,
 "nbformat_minor": 2
}
