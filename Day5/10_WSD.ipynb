{
 "cells": [
  {
   "cell_type": "code",
   "execution_count": 9,
   "metadata": {},
   "outputs": [],
   "source": [
    "from nltk.wsd import lesk"
   ]
  },
  {
   "cell_type": "code",
   "execution_count": 10,
   "metadata": {},
   "outputs": [],
   "source": [
    "a1 = lesk('This device is used to jab the signals', 'jam')"
   ]
  },
  {
   "cell_type": "code",
   "execution_count": 11,
   "metadata": {},
   "outputs": [
    {
     "data": {
      "text/plain": [
       "'informal terms for a difficult situation'"
      ]
     },
     "execution_count": 11,
     "metadata": {},
     "output_type": "execute_result"
    }
   ],
   "source": [
    "a1.definition()"
   ]
  },
  {
   "cell_type": "code",
   "execution_count": 14,
   "metadata": {},
   "outputs": [
    {
     "data": {
      "text/plain": [
       "'get stuck and immobilized'"
      ]
     },
     "execution_count": 14,
     "metadata": {},
     "output_type": "execute_result"
    }
   ],
   "source": [
    "from nltk import word_tokenize\n",
    "\n",
    "\n",
    "a2 = lesk(word_tokenize('It is a very heavy traffic jam here, we are stuck at same place.'), 'jam')\n",
    "a2.definition()"
   ]
  },
  {
   "cell_type": "code",
   "execution_count": 34,
   "metadata": {},
   "outputs": [
    {
     "data": {
      "text/plain": [
       "'beat thoroughly and conclusively in a competition or fight'"
      ]
     },
     "execution_count": 34,
     "metadata": {},
     "output_type": "execute_result"
    }
   ],
   "source": [
    "a3 = lesk(word_tokenize('i have one bat in my house and it flies'), 'bat')\n",
    "a3.definition()"
   ]
  },
  {
   "cell_type": "code",
   "execution_count": 36,
   "metadata": {},
   "outputs": [
    {
     "name": "stdout",
     "output_type": "stream",
     "text": [
      "preserve of crushed fruit\n",
      "informal terms for a difficult situation\n",
      "a dense crowd of people\n",
      "deliberate radiation or reflection of electromagnetic energy for the purpose of disrupting enemy use of electronic devices or systems\n",
      "press tightly together or cram\n",
      "push down forcibly\n",
      "crush or bruise\n",
      "interfere with or prevent the reception of signals\n",
      "get stuck and immobilized\n",
      "crowd or pack to capacity\n",
      "block passage through\n"
     ]
    }
   ],
   "source": [
    "from nltk.wsd import wordnet\n",
    "\n",
    "X = wordnet.synsets('jam')\n",
    "for x in X:\n",
    "    print(x.definition())"
   ]
  }
 ],
 "metadata": {
  "kernelspec": {
   "display_name": "New",
   "language": "python",
   "name": "python3"
  },
  "language_info": {
   "codemirror_mode": {
    "name": "ipython",
    "version": 3
   },
   "file_extension": ".py",
   "mimetype": "text/x-python",
   "name": "python",
   "nbconvert_exporter": "python",
   "pygments_lexer": "ipython3",
   "version": "3.10.13"
  }
 },
 "nbformat": 4,
 "nbformat_minor": 2
}
